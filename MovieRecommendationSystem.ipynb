{
 "cells": [
  {
   "cell_type": "code",
   "execution_count": 99,
   "id": "a5bd32db-6cff-48c4-95c4-05acbbd170bf",
   "metadata": {},
   "outputs": [],
   "source": [
    "# Import pandas library for data manipulation and analysis\n",
    "import pandas as pd\n",
    "# Load the movies dataset from CSV file into a DataFrame\n",
    "movies = pd.read_csv(\"movies.csv\")\n",
    "# Load the ratings dataset from CSV file into a DataFrame\n",
    "ratings = pd.read_csv(\"ratings.csv\")"
   ]
  },
  {
   "cell_type": "code",
   "execution_count": 101,
   "id": "1e979d7b-69b0-49bd-980f-f2cbc5856835",
   "metadata": {},
   "outputs": [],
   "source": [
    "import re\n",
    "\n",
    "def clean_title(title):\n",
    "    \"\"\"\n",
    "    Clean a title string by removing all non-alphanumeric characters.\n",
    "    \n",
    "    Args:\n",
    "        title (str): The title string to clean\n",
    "        \n",
    "    Returns:\n",
    "        str: The cleaned title with only alphanumeric characters and spaces\n",
    "    \"\"\"\n",
    "    # Remove any character that is not a letter, number, or space using regex\n",
    "    title = re.sub(\"[^a-zA-Z0-9 ]\", \"\", title)\n",
    "    return title"
   ]
  },
  {
   "cell_type": "code",
   "execution_count": 86,
   "id": "7c4f78ed-af26-4243-a164-49eaa04090ff",
   "metadata": {},
   "outputs": [],
   "source": [
    "\n",
    "movies[\"clean_title\"] = movies[\"title\"].apply(clean_title)\n",
    "    "
   ]
  },
  {
   "cell_type": "code",
   "execution_count": 87,
   "id": "a71c5dee-e539-460a-84e0-247652e78d64",
   "metadata": {},
   "outputs": [],
   "source": [
    "from sklearn.feature_extraction.text import TfidfVectorizer\n",
    "\n",
    "# Initialize the TfidfVectorizer with ngram range of 1 to 2\n",
    "vectorizer = TfidfVectorizer(ngram_range=(1, 2))\n",
    "\n",
    "# Fit and transform the 'clean_title' column from the movies DataFrame\n",
    "tfidf_matrix = vectorizer.fit_transform(movies[\"clean_title\"])\n"
   ]
  },
  {
   "cell_type": "code",
   "execution_count": 88,
   "id": "9d388eb2-18f3-43b3-8f09-21cfe4591260",
   "metadata": {},
   "outputs": [],
   "source": [
    "from sklearn.metrics.pairwise import cosine_similarity\n",
    "import numpy as np\n",
    "\n",
    "def search(title):\n",
    "    # Clean the input title\n",
    "    title = clean_title(title)\n",
    "    \n",
    "    # Transform the cleaned title into a TF-IDF vector\n",
    "    query_vec = vectorizer.transform([title])\n",
    "    \n",
    "    # Compute cosine similarity between the query vector and the TF-IDF matrix\n",
    "    similarity = cosine_similarity(query_vec, tfidf).flatten()\n",
    "    \n",
    "    # Get the indices of the top 5 most similar titles\n",
    "    indices = np.argpartition(similarity, -5)[-5:]\n",
    "    \n",
    "    # Retrieve the top 5 most similar titles from the movies DataFrame\n",
    "    results = movies.iloc[indices].iloc[::-1]\n",
    "    \n",
    "    return results\n"
   ]
  },
  {
   "cell_type": "code",
   "execution_count": 89,
   "id": "0855ebf4-b369-4639-a28e-1e0b83d32dcf",
   "metadata": {
    "scrolled": true
   },
   "outputs": [
    {
     "data": {
      "application/vnd.jupyter.widget-view+json": {
       "model_id": "996451f78cfe48f896d54cd918cb5f0f",
       "version_major": 2,
       "version_minor": 0
      },
      "text/plain": [
       "Text(value='', description='Movie title:')"
      ]
     },
     "metadata": {},
     "output_type": "display_data"
    },
    {
     "data": {
      "application/vnd.jupyter.widget-view+json": {
       "model_id": "8bf66e705c5e477c81d5e8bafa042f77",
       "version_major": 2,
       "version_minor": 0
      },
      "text/plain": [
       "Output()"
      ]
     },
     "metadata": {},
     "output_type": "display_data"
    }
   ],
   "source": [
    "import ipywidgets as widgets\n",
    "from IPython.display import display\n",
    "\n",
    "# Create a text input widget for movie title\n",
    "movie_input = widgets.Text(\n",
    "    description=\"Movie title:\",\n",
    "    disabled=False\n",
    ")\n",
    "\n",
    "# Create an output widget to display the search results\n",
    "movie_list = widgets.Output()\n",
    "\n",
    "# Define the function to handle typing events\n",
    "def on_type(data):\n",
    "    with movie_list:\n",
    "        movie_list.clear_output()\n",
    "        title = data[\"new\"]\n",
    "        if len(title) > 5:\n",
    "            display(search(title))\n",
    "\n",
    "# Observe changes in the movie_input widget and call the on_type function\n",
    "movie_input.observe(on_type, names='value')\n",
    "\n",
    "# Display the input widget and the output widget\n",
    "display(movie_input, movie_list)\n"
   ]
  },
  {
   "cell_type": "code",
   "execution_count": 90,
   "id": "d064cc3d-afe8-4f33-aa69-f9428ef9b281",
   "metadata": {},
   "outputs": [],
   "source": [
    "import pandas as pd\n",
    "\n",
    "def find_similar_movies(movie_id):\n",
    "    # Find users who rated the given movie highly\n",
    "    similar_users = ratings[(ratings[\"movieId\"] == movie_id) & (ratings[\"rating\"] > 4)][\"userId\"].unique()\n",
    "    \n",
    "    # Find movies that these similar users also rated highly\n",
    "    similar_user_recs = ratings[(ratings[\"userId\"].isin(similar_users)) & (ratings[\"rating\"] > 4)][\"movieId\"]\n",
    "    similar_user_recs = similar_user_recs.value_counts() / len(similar_users)\n",
    "\n",
    "    # Filter recommendations to those with a significant percentage of similar users\n",
    "    similar_user_recs = similar_user_recs[similar_user_recs > .10]\n",
    "    \n",
    "    # Find all users who rated these recommended movies highly\n",
    "    all_users = ratings[(ratings[\"movieId\"].isin(similar_user_recs.index)) & (ratings[\"rating\"] > 4)]\n",
    "    all_user_recs = all_users[\"movieId\"].value_counts() / len(all_users[\"userId\"].unique())\n",
    "    \n",
    "    # Combine the similar user recommendations and all user recommendations\n",
    "    rec_percentages = pd.concat([similar_user_recs, all_user_recs], axis=1)\n",
    "    rec_percentages.columns = [\"similar\", \"all\"]\n",
    "    \n",
    "    # Calculate a score for each recommended movie\n",
    "    rec_percentages[\"score\"] = rec_percentages[\"similar\"] / rec_percentages[\"all\"]\n",
    "    rec_percentages = rec_percentages.sort_values(\"score\", ascending=False)\n",
    "    \n",
    "    # Return the top 10 recommended movies with their scores, titles, and genres\n",
    "    return rec_percentages.head(10).merge(movies, left_index=True, right_on=\"movieId\")[[\"score\", \"title\", \"genres\"]]\n"
   ]
  },
  {
   "cell_type": "code",
   "execution_count": 82,
   "id": "804043b0-cee7-4279-ad75-430ed00ae7c1",
   "metadata": {},
   "outputs": [
    {
     "data": {
      "application/vnd.jupyter.widget-view+json": {
       "model_id": "565bd30292714f44b72e922a0dc9a4d9",
       "version_major": 2,
       "version_minor": 0
      },
      "text/plain": [
       "Text(value='', description='Movie Title: ')"
      ]
     },
     "metadata": {},
     "output_type": "display_data"
    },
    {
     "data": {
      "application/vnd.jupyter.widget-view+json": {
       "model_id": "c76c5b787edd483a90ead014cf88ae49",
       "version_major": 2,
       "version_minor": 0
      },
      "text/plain": [
       "Output()"
      ]
     },
     "metadata": {},
     "output_type": "display_data"
    }
   ],
   "source": [
    "import ipywidgets as widgets\n",
    "from IPython.display import display\n",
    "\n",
    "# Create a text input widget for movie title\n",
    "movie_input_name = widgets.Text(\n",
    "    description=\"Movie Title: \",\n",
    "    disabled=False\n",
    ")\n",
    "\n",
    "# Create an output widget to display the recommendations\n",
    "recommendation_list = widgets.Output()\n",
    "\n",
    "# Define the function to handle typing events\n",
    "def on_type(data):\n",
    "    with recommendation_list:\n",
    "        recommendation_list.clear_output()\n",
    "        title = data[\"new\"]\n",
    "        if len(title) > 5:\n",
    "            results = search(title)\n",
    "            movie_id = results.iloc[0][\"movieId\"]\n",
    "            display(find_similar_movies(movie_id))\n",
    "\n",
    "# Observe changes in the movie_input_name widget and call the on_type function\n",
    "movie_input_name.observe(on_type, names=\"value\")\n",
    "\n",
    "# Display the input widget and the output widget\n",
    "display(movie_input_name, recommendation_list)\n"
   ]
  },
  {
   "cell_type": "code",
   "execution_count": null,
   "id": "bb256021-1358-4d63-b477-6519b70bd58c",
   "metadata": {},
   "outputs": [],
   "source": []
  }
 ],
 "metadata": {
  "kernelspec": {
   "display_name": "Python [conda env:base] *",
   "language": "python",
   "name": "conda-base-py"
  },
  "language_info": {
   "codemirror_mode": {
    "name": "ipython",
    "version": 3
   },
   "file_extension": ".py",
   "mimetype": "text/x-python",
   "name": "python",
   "nbconvert_exporter": "python",
   "pygments_lexer": "ipython3",
   "version": "3.12.7"
  }
 },
 "nbformat": 4,
 "nbformat_minor": 5
}
